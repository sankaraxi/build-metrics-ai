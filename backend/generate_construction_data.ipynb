{
  "nbformat": 4,
  "nbformat_minor": 0,
  "metadata": {
    "colab": {
      "provenance": []
    },
    "kernelspec": {
      "name": "python3",
      "display_name": "Python 3"
    },
    "language_info": {
      "name": "python"
    }
  },
  "cells": [
    {
      "cell_type": "code",
      "execution_count": 23,
      "metadata": {
        "id": "4m5Ps4-GID4i"
      },
      "outputs": [],
      "source": [
        "import pandas as pd\n",
        "import random\n",
        "from datetime import datetime, timedelta"
      ]
    },
    {
      "cell_type": "code",
      "source": [
        "random.seed(42)"
      ],
      "metadata": {
        "id": "1poiFumnJjzP"
      },
      "execution_count": 24,
      "outputs": []
    },
    {
      "cell_type": "code",
      "source": [
        "def generate_realistic_data(num_rows=750):\n",
        "    data = []\n",
        "\n",
        "    for i in range(num_rows):\n",
        "        start_date = datetime(2023, 1, 1) + timedelta(days=random.randint(0, 365))\n",
        "\n",
        "\n",
        "        land_size = random.uniform(800, 5000)\n",
        "        project_duration = int(max(30, land_size / 100))\n",
        "\n",
        "        end_date = start_date + timedelta(days=project_duration)\n",
        "\n",
        "        num_floors = random.randint(1, 10)\n",
        "\n",
        "\n",
        "        tons_cement = max(5, min(land_size / 10, num_floors * 3.5))\n",
        "\n",
        "        labor_required = max(5, min(num_floors * 5, 150))\n",
        "\n",
        "        cost_per_ton_cement = 8000\n",
        "        cost_per_brick = 6\n",
        "        cost_per_ton_iron = 50000\n",
        "        cost_per_ton_sand = 7500\n",
        "\n",
        "        total_budget = (tons_cement * cost_per_ton_cement +\n",
        "                        labor_required * 500)\n",
        "\n",
        "        bricks_per_sqft = 15\n",
        "        num_bricks = int(land_size * bricks_per_sqft)\n",
        "\n",
        "        tons_iron = max(0, min(land_size / 100, num_floors * 2))\n",
        "        sand_ton=tons_cement*2.5\n",
        "\n",
        "        total_cost = (num_bricks * cost_per_brick +\n",
        "                      tons_iron * cost_per_ton_iron +\n",
        "                      total_budget+sand_ton*cost_per_ton_sand )\n",
        "\n",
        "        data.append({\n",
        "            'Project_ID': f'P-{i + 1}',\n",
        "            'Land_Size_Sqm': round(land_size, 2),\n",
        "            'Num_Of_Floors': num_floors,\n",
        "            'Tons_Of_Cement': round(tons_cement, 2),\n",
        "            'Labor_Required': labor_required,\n",
        "            'Start_Date': start_date,\n",
        "            'End_Date': end_date,\n",
        "            'Num_Of_Bricks': num_bricks,\n",
        "            'Tons_Iron': round(tons_iron, 2),\n",
        "            'Tons_Of_Sand':sand_ton,\n",
        "            'Total_Cost': total_cost,\n",
        "        })\n",
        "\n",
        "    return data\n"
      ],
      "metadata": {
        "id": "vvvFgHOFLMA9"
      },
      "execution_count": 26,
      "outputs": []
    },
    {
      "cell_type": "code",
      "source": [
        "dataset = pd.DataFrame(generate_realistic_data())"
      ],
      "metadata": {
        "id": "DSOS4lIaVF4u"
      },
      "execution_count": 27,
      "outputs": []
    },
    {
      "cell_type": "code",
      "source": [
        "csv_file_path = './dataset.csv'"
      ],
      "metadata": {
        "id": "BAuIpaBpVN8_"
      },
      "execution_count": 29,
      "outputs": []
    },
    {
      "cell_type": "code",
      "source": [
        "dataset.to_csv(csv_file_path, index=False)"
      ],
      "metadata": {
        "id": "gKxUAItKWUvn"
      },
      "execution_count": 30,
      "outputs": []
    }
  ]
}